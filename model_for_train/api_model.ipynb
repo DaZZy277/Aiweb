{
 "cells": [
  {
   "cell_type": "code",
   "execution_count": 3,
   "metadata": {},
   "outputs": [
    {
     "name": "stdout",
     "output_type": "stream",
     "text": [
      "Requirement already satisfied: flask in c:\\users\\dell\\appdata\\local\\programs\\python\\python39\\lib\\site-packages (3.0.3)\n",
      "Requirement already satisfied: Werkzeug>=3.0.0 in c:\\users\\dell\\appdata\\local\\programs\\python\\python39\\lib\\site-packages (from flask) (3.0.4)\n",
      "Requirement already satisfied: Jinja2>=3.1.2 in c:\\users\\dell\\appdata\\local\\programs\\python\\python39\\lib\\site-packages (from flask) (3.1.4)\n",
      "Requirement already satisfied: itsdangerous>=2.1.2 in c:\\users\\dell\\appdata\\local\\programs\\python\\python39\\lib\\site-packages (from flask) (2.2.0)\n",
      "Requirement already satisfied: click>=8.1.3 in c:\\users\\dell\\appdata\\local\\programs\\python\\python39\\lib\\site-packages (from flask) (8.1.7)\n",
      "Requirement already satisfied: blinker>=1.6.2 in c:\\users\\dell\\appdata\\local\\programs\\python\\python39\\lib\\site-packages (from flask) (1.8.2)\n",
      "Requirement already satisfied: importlib-metadata>=3.6.0 in c:\\users\\dell\\appdata\\local\\programs\\python\\python39\\lib\\site-packages (from flask) (8.2.0)\n",
      "Requirement already satisfied: colorama in c:\\users\\dell\\appdata\\local\\programs\\python\\python39\\lib\\site-packages (from click>=8.1.3->flask) (0.4.6)\n",
      "Requirement already satisfied: zipp>=0.5 in c:\\users\\dell\\appdata\\local\\programs\\python\\python39\\lib\\site-packages (from importlib-metadata>=3.6.0->flask) (3.19.2)\n",
      "Requirement already satisfied: MarkupSafe>=2.0 in c:\\users\\dell\\appdata\\local\\programs\\python\\python39\\lib\\site-packages (from Jinja2>=3.1.2->flask) (2.1.5)\n",
      "Note: you may need to restart the kernel to use updated packages.\n",
      "Requirement already satisfied: nbformat in c:\\users\\dell\\appdata\\local\\programs\\python\\python39\\lib\\site-packages (5.10.4)\n",
      "Requirement already satisfied: importnb in c:\\users\\dell\\appdata\\local\\programs\\python\\python39\\lib\\site-packages (2023.11.1)\n",
      "Requirement already satisfied: fastjsonschema>=2.15 in c:\\users\\dell\\appdata\\local\\programs\\python\\python39\\lib\\site-packages (from nbformat) (2.20.0)\n",
      "Requirement already satisfied: jsonschema>=2.6 in c:\\users\\dell\\appdata\\local\\programs\\python\\python39\\lib\\site-packages (from nbformat) (4.23.0)\n",
      "Requirement already satisfied: jupyter-core!=5.0.*,>=4.12 in c:\\users\\dell\\appdata\\local\\programs\\python\\python39\\lib\\site-packages (from nbformat) (5.7.2)\n",
      "Requirement already satisfied: traitlets>=5.1 in c:\\users\\dell\\appdata\\local\\programs\\python\\python39\\lib\\site-packages (from nbformat) (5.14.3)\n",
      "Requirement already satisfied: importlib-metadata>=4.8.3 in c:\\users\\dell\\appdata\\local\\programs\\python\\python39\\lib\\site-packages (from importnb) (8.2.0)\n",
      "Requirement already satisfied: zipp>=0.5 in c:\\users\\dell\\appdata\\local\\programs\\python\\python39\\lib\\site-packages (from importlib-metadata>=4.8.3->importnb) (3.19.2)\n",
      "Requirement already satisfied: attrs>=22.2.0 in c:\\users\\dell\\appdata\\local\\programs\\python\\python39\\lib\\site-packages (from jsonschema>=2.6->nbformat) (24.1.0)\n",
      "Requirement already satisfied: jsonschema-specifications>=2023.03.6 in c:\\users\\dell\\appdata\\local\\programs\\python\\python39\\lib\\site-packages (from jsonschema>=2.6->nbformat) (2023.12.1)\n",
      "Requirement already satisfied: referencing>=0.28.4 in c:\\users\\dell\\appdata\\local\\programs\\python\\python39\\lib\\site-packages (from jsonschema>=2.6->nbformat) (0.35.1)\n",
      "Requirement already satisfied: rpds-py>=0.7.1 in c:\\users\\dell\\appdata\\local\\programs\\python\\python39\\lib\\site-packages (from jsonschema>=2.6->nbformat) (0.19.1)\n",
      "Requirement already satisfied: platformdirs>=2.5 in c:\\users\\dell\\appdata\\local\\programs\\python\\python39\\lib\\site-packages (from jupyter-core!=5.0.*,>=4.12->nbformat) (4.2.2)\n",
      "Requirement already satisfied: pywin32>=300 in c:\\users\\dell\\appdata\\local\\programs\\python\\python39\\lib\\site-packages (from jupyter-core!=5.0.*,>=4.12->nbformat) (306)\n",
      "Note: you may need to restart the kernel to use updated packages.\n"
     ]
    }
   ],
   "source": [
    "%pip install flask\n",
    "%pip install nbformat importnb"
   ]
  },
  {
   "cell_type": "code",
   "execution_count": 8,
   "metadata": {},
   "outputs": [
    {
     "name": "stdout",
     "output_type": "stream",
     "text": [
      " * Serving Flask app '__main__'\n",
      " * Debug mode: off\n"
     ]
    },
    {
     "name": "stderr",
     "output_type": "stream",
     "text": [
      "WARNING: This is a development server. Do not use it in a production deployment. Use a production WSGI server instead.\n",
      " * Running on http://127.0.0.1:5000\n",
      "Press CTRL+C to quit\n",
      "127.0.0.1 - - [11/Oct/2024 00:16:07] \"POST /predict HTTP/1.1\" 200 -\n",
      "127.0.0.1 - - [11/Oct/2024 00:17:45] \"POST /predict HTTP/1.1\" 200 -\n"
     ]
    }
   ],
   "source": [
    "from flask import Flask,request,jsonify\n",
    "from importnb import Notebook # ใช้ importnb เพื่อ models .ipynb\n",
    "\n",
    "# นำเข้า models.ipynb\n",
    "with Notebook():\n",
    "    import models  # ไฟล์ .ipynb จะถูก import โดยใช้ชื่อ model\n",
    "\n",
    "app = Flask(__name__)\n",
    "\n",
    "@app.route('/predict', methods=['POST'])\n",
    "def predict():\n",
    "\n",
    "    # รับ input (จำนวนปีและจำนวนเงินเริ่มต้น) จาก request\n",
    "    data = request.get_json()\n",
    "\n",
    "    try:\n",
    "        # แปลงค่า n_years และ initial_amount เป็น int\n",
    "        n_years = int(data.get('n_years'))\n",
    "        initial_amount = float(data.get('initial_amount'))\n",
    "    except ValueError:\n",
    "        return jsonify({'error': 'Invalid input. Ensure that n_years and initial_amount are integers.'}), 400\n",
    "\n",
    "    # เรียกใช้ฟังก์ชันใน models.py เพื่อทำนายผล\n",
    "    predictions = models.predict(n_years, initial_amount)\n",
    "\n",
    "    # ส่งคืนผลลัพธ์กลับเป็น JSON\n",
    "    return jsonify(predictions)\n",
    "\n",
    "if __name__ == '__main__':\n",
    "    app.run(debug=False)"
   ]
  },
  {
   "cell_type": "code",
   "execution_count": null,
   "metadata": {},
   "outputs": [],
   "source": []
  }
 ],
 "metadata": {
  "kernelspec": {
   "display_name": "Python 3",
   "language": "python",
   "name": "python3"
  },
  "language_info": {
   "codemirror_mode": {
    "name": "ipython",
    "version": 3
   },
   "file_extension": ".py",
   "mimetype": "text/x-python",
   "name": "python",
   "nbconvert_exporter": "python",
   "pygments_lexer": "ipython3",
   "version": "3.9.5"
  }
 },
 "nbformat": 4,
 "nbformat_minor": 2
}
